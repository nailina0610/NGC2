{
 "cells": [
  {
   "cell_type": "markdown",
   "metadata": {},
   "source": [
    "# TASK #1 - Number of Word"
   ]
  },
  {
   "cell_type": "code",
   "execution_count": 14,
   "metadata": {},
   "outputs": [
    {
     "name": "stdout",
     "output_type": "stream",
     "text": [
      "7\n"
     ]
    }
   ],
   "source": [
    "def number_of_word(sentence):\n",
    "    words_list = sentence.split()\n",
    "    num_words = len(words_list)\n",
    "    \n",
    "    return num_words\n",
    "\n",
    "result = number_of_word(sentence = \"Saya mencoba mengerjakan NGC 2 dengan baik\")\n",
    "print(result)"
   ]
  },
  {
   "cell_type": "markdown",
   "metadata": {},
   "source": [
    "# TASK #2 - Find Multiple"
   ]
  },
  {
   "cell_type": "code",
   "execution_count": 32,
   "metadata": {},
   "outputs": [
    {
     "name": "stdout",
     "output_type": "stream",
     "text": [
      "Multiples 3 between 0 and 20 : [0, 3, 6, 9, 12, 15, 18]\n"
     ]
    }
   ],
   "source": [
    "def find_multiples(start_range, end_range, multiple):\n",
    "    multiples_list = []\n",
    "\n",
    "    for number in range(start_range, end_range):\n",
    "        if number % multiple == 0:\n",
    "            multiples_list.append(number)\n",
    "\n",
    "    return multiples_list\n",
    "\n",
    "start_range = 0\n",
    "end_range = 20\n",
    "multiple = 3\n",
    "result = find_multiples(start_range, end_range, multiple)\n",
    "print(\"Multiples\", multiple, \"between\", start_range, \"and\", end_range, \":\", result)\n"
   ]
  },
  {
   "cell_type": "markdown",
   "metadata": {},
   "source": [
    "# TASK #3 - Grade Converter"
   ]
  },
  {
   "cell_type": "code",
   "execution_count": 1,
   "metadata": {},
   "outputs": [
    {
     "ename": "TypeError",
     "evalue": "'str' object is not callable",
     "output_type": "error",
     "traceback": [
      "\u001b[1;31m---------------------------------------------------------------------------\u001b[0m",
      "\u001b[1;31mTypeError\u001b[0m                                 Traceback (most recent call last)",
      "Cell \u001b[1;32mIn[1], line 36\u001b[0m\n\u001b[0;32m     32\u001b[0m             converted_grades[student] \u001b[38;5;241m=\u001b[39m convert_to_letter_grade(score)\n\u001b[0;32m     34\u001b[0m     \u001b[38;5;28;01mreturn\u001b[39;00m converted_grades\n\u001b[1;32m---> 36\u001b[0m converted_data \u001b[38;5;241m=\u001b[39m \u001b[43mGrade_Converter\u001b[49m\u001b[43m(\u001b[49m\u001b[43mconvert_to\u001b[49m\u001b[38;5;241;43m=\u001b[39;49m\u001b[38;5;124;43m'\u001b[39;49m\u001b[38;5;124;43mgpa\u001b[39;49m\u001b[38;5;124;43m'\u001b[39;49m\u001b[43m,\u001b[49m\u001b[43m \u001b[49m\u001b[43mBambang\u001b[49m\u001b[38;5;241;43m=\u001b[39;49m\u001b[38;5;241;43m90\u001b[39;49m\u001b[43m,\u001b[49m\u001b[43m \u001b[49m\u001b[43mSiti\u001b[49m\u001b[38;5;241;43m=\u001b[39;49m\u001b[38;5;241;43m85\u001b[39;49m\u001b[43m,\u001b[49m\u001b[43m \u001b[49m\u001b[43mAlex\u001b[49m\u001b[38;5;241;43m=\u001b[39;49m\u001b[38;5;241;43m40\u001b[39;49m\u001b[43m,\u001b[49m\u001b[43m \u001b[49m\u001b[43mSari\u001b[49m\u001b[38;5;241;43m=\u001b[39;49m\u001b[38;5;241;43m75\u001b[39;49m\u001b[43m,\u001b[49m\u001b[43m \u001b[49m\u001b[43mJustin\u001b[49m\u001b[38;5;241;43m=\u001b[39;49m\u001b[38;5;241;43m82\u001b[39;49m\u001b[43m)\u001b[49m\n\u001b[0;32m     37\u001b[0m \u001b[38;5;28mprint\u001b[39m(\u001b[38;5;124m\"\u001b[39m\u001b[38;5;124mConverted GPA:\u001b[39m\u001b[38;5;124m\"\u001b[39m, converted_data)\n\u001b[0;32m     39\u001b[0m converted_data \u001b[38;5;241m=\u001b[39m Grade_Converter(convert_to\u001b[38;5;241m=\u001b[39m\u001b[38;5;124m'\u001b[39m\u001b[38;5;124mletter_grade\u001b[39m\u001b[38;5;124m'\u001b[39m, Bambang\u001b[38;5;241m=\u001b[39m\u001b[38;5;241m90\u001b[39m, Siti\u001b[38;5;241m=\u001b[39m\u001b[38;5;241m85\u001b[39m, Alex\u001b[38;5;241m=\u001b[39m\u001b[38;5;241m40\u001b[39m, Sari\u001b[38;5;241m=\u001b[39m\u001b[38;5;241m75\u001b[39m, Justin\u001b[38;5;241m=\u001b[39m\u001b[38;5;241m82\u001b[39m)\n",
      "Cell \u001b[1;32mIn[1], line 29\u001b[0m, in \u001b[0;36mGrade_Converter\u001b[1;34m(convert_to, **students_scores)\u001b[0m\n\u001b[0;32m     26\u001b[0m converted_grades \u001b[38;5;241m=\u001b[39m {}\n\u001b[0;32m     28\u001b[0m \u001b[38;5;28;01mfor\u001b[39;00m student, score \u001b[38;5;129;01min\u001b[39;00m students_scores\u001b[38;5;241m.\u001b[39mitems():\n\u001b[1;32m---> 29\u001b[0m     \u001b[38;5;28;01mif\u001b[39;00m \u001b[43mconvert_to\u001b[49m\u001b[43m(\u001b[49m\u001b[43m)\u001b[49m \u001b[38;5;241m==\u001b[39m \u001b[38;5;124m'\u001b[39m\u001b[38;5;124mgpa\u001b[39m\u001b[38;5;124m'\u001b[39m:\n\u001b[0;32m     30\u001b[0m         converted_grades[student] \u001b[38;5;241m=\u001b[39m calculate_gpa(score)\n\u001b[0;32m     31\u001b[0m     \u001b[38;5;28;01melif\u001b[39;00m convert_to() \u001b[38;5;241m==\u001b[39m \u001b[38;5;124m'\u001b[39m\u001b[38;5;124mletter_grade\u001b[39m\u001b[38;5;124m'\u001b[39m:\n",
      "\u001b[1;31mTypeError\u001b[0m: 'str' object is not callable"
     ]
    }
   ],
   "source": [
    "def Grade_Converter(convert_to, **students_scores):\n",
    "    def calculate_gpa(score):\n",
    "        if score >= 85:\n",
    "            return 4.0\n",
    "        elif score >= 75:\n",
    "            return 3.0\n",
    "        elif score >= 65:\n",
    "            return 2.0\n",
    "        elif score >= 55:\n",
    "            return 1.0\n",
    "        else:\n",
    "            return 0.0\n",
    "\n",
    "    def convert_to_letter_grade(score):\n",
    "        if score >= 85:\n",
    "            return 'A'\n",
    "        elif score >= 75:\n",
    "            return 'B'\n",
    "        elif score >= 65:\n",
    "            return 'C'\n",
    "        elif score >= 55:\n",
    "            return 'D'\n",
    "        else:\n",
    "            return 'F'\n",
    "\n",
    "    converted_grades = {}\n",
    "\n",
    "    for student, score in students_scores.items():\n",
    "        if convert_to() == 'gpa':\n",
    "            converted_grades[student] = calculate_gpa(score)\n",
    "        elif convert_to() == 'letter_grade':\n",
    "            converted_grades[student] = convert_to_letter_grade(score)\n",
    "\n",
    "    return converted_grades\n",
    "\n",
    "converted_data = Grade_Converter(convert_to='gpa', Bambang=90, Siti=85, Alex=40, Sari=75, Justin=82)\n",
    "print(\"Converted GPA:\", converted_data)\n",
    "\n",
    "converted_data = Grade_Converter(convert_to='letter_grade', Bambang=90, Siti=85, Alex=40, Sari=75, Justin=82)\n",
    "print(\"Converted Letter Grades:\", converted_data)\n",
    "\n",
    "#ini kenapa error ya kak?"
   ]
  },
  {
   "cell_type": "markdown",
   "metadata": {},
   "source": [
    "# TASK #4 - Fibonacci Sequence"
   ]
  },
  {
   "cell_type": "code",
   "execution_count": 2,
   "metadata": {},
   "outputs": [
    {
     "ename": "SyntaxError",
     "evalue": "incomplete input (1025993179.py, line 2)",
     "output_type": "error",
     "traceback": [
      "\u001b[1;36m  Cell \u001b[1;32mIn[2], line 2\u001b[1;36m\u001b[0m\n\u001b[1;33m    # maaf kak yang ini saya kurang paham\u001b[0m\n\u001b[1;37m                                         ^\u001b[0m\n\u001b[1;31mSyntaxError\u001b[0m\u001b[1;31m:\u001b[0m incomplete input\n"
     ]
    }
   ],
   "source": [
    "def my_function(n):\n",
    "    # maaf kak yang ini saya kurang paham"
   ]
  }
 ],
 "metadata": {
  "kernelspec": {
   "display_name": "base",
   "language": "python",
   "name": "python3"
  },
  "language_info": {
   "codemirror_mode": {
    "name": "ipython",
    "version": 3
   },
   "file_extension": ".py",
   "mimetype": "text/x-python",
   "name": "python",
   "nbconvert_exporter": "python",
   "pygments_lexer": "ipython3",
   "version": "3.11.5"
  }
 },
 "nbformat": 4,
 "nbformat_minor": 2
}
