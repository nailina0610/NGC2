{
 "cells": [
  {
   "cell_type": "markdown",
   "metadata": {},
   "source": [
    "# TASK #1 - Number of Word"
   ]
  },
  {
   "cell_type": "code",
   "execution_count": 14,
   "metadata": {},
   "outputs": [
    {
     "name": "stdout",
     "output_type": "stream",
     "text": [
      "7\n"
     ]
    }
   ],
   "source": [
    "def number_of_word(sentence):\n",
    "    words_list = sentence.split()\n",
    "    num_words = len(words_list)\n",
    "    \n",
    "    return num_words\n",
    "\n",
    "result = number_of_word(sentence = \"Saya mencoba mengerjakan NGC 2 dengan baik\")\n",
    "print(result)"
   ]
  },
  {
   "cell_type": "markdown",
   "metadata": {},
   "source": [
    "# TASK #2 - Find Multiple"
   ]
  },
  {
   "cell_type": "code",
   "execution_count": 32,
   "metadata": {},
   "outputs": [
    {
     "name": "stdout",
     "output_type": "stream",
     "text": [
      "Multiples 3 between 0 and 20 : [0, 3, 6, 9, 12, 15, 18]\n"
     ]
    }
   ],
   "source": [
    "def find_multiples(start_range, end_range, multiple):\n",
    "    multiples_list = []\n",
    "\n",
    "    for number in range(start_range, end_range):\n",
    "        if number % multiple == 0:\n",
    "            multiples_list.append(number)\n",
    "\n",
    "    return multiples_list\n",
    "\n",
    "start_range = 0\n",
    "end_range = 20\n",
    "multiple = 3\n",
    "result = find_multiples(start_range, end_range, multiple)\n",
    "print(\"Multiples\", multiple, \"between\", start_range, \"and\", end_range, \":\", result)\n"
   ]
  },
  {
   "cell_type": "markdown",
   "metadata": {},
   "source": [
    "# TASK #3 - Grade Converter"
   ]
  },
  {
   "cell_type": "code",
   "execution_count": 47,
   "metadata": {},
   "outputs": [
    {
     "name": "stdout",
     "output_type": "stream",
     "text": [
      "Converted GPA: {'Bambang': 4.0, 'Siti': 4.0, 'Alex': 0.0, 'Sari': 3.0, 'Justin': 3.0}\n",
      "Converted Letter Grades: {'Bambang': 'A', 'Siti': 'A', 'Alex': 'F', 'Sari': 'B', 'Justin': 'B'}\n"
     ]
    }
   ],
   "source": [
    "def Grade_Converter(convert_to, **students_scores):\n",
    "    def calculate_gpa(score):\n",
    "        if score >= 85:\n",
    "            return 4.0\n",
    "        elif score >= 75:\n",
    "            return 3.0\n",
    "        elif score >= 65:\n",
    "            return 2.0\n",
    "        elif score >= 55:\n",
    "            return 1.0\n",
    "        else:\n",
    "            return 0.0\n",
    "\n",
    "    def convert_to_letter_grade(score):\n",
    "        if score >= 85:\n",
    "            return 'A'\n",
    "        elif score >= 75:\n",
    "            return 'B'\n",
    "        elif score >= 65:\n",
    "            return 'C'\n",
    "        elif score >= 55:\n",
    "            return 'D'\n",
    "        else:\n",
    "            return 'F'\n",
    "\n",
    "    converted_grades = {}\n",
    "\n",
    "    for student, score in students_scores.items():\n",
    "        if convert_to.lower() == 'gpa':\n",
    "            converted_grades[student] = calculate_gpa(score)\n",
    "        elif convert_to.lower() == 'letter_grade':\n",
    "            converted_grades[student] = convert_to_letter_grade(score)\n",
    "\n",
    "    return converted_grades\n",
    "\n",
    "converted_data = Grade_Converter(convert_to='gpa', Bambang=90, Siti=85, Alex=40, Sari=75, Justin=82)\n",
    "print(\"Converted GPA:\", converted_data)\n",
    "\n",
    "converted_data = Grade_Converter(convert_to='letter_grade', Bambang=90, Siti=85, Alex=40, Sari=75, Justin=82)\n",
    "print(\"Converted Letter Grades:\", converted_data)\n"
   ]
  },
  {
   "cell_type": "markdown",
   "metadata": {},
   "source": [
    "# TASK #4 - Fibonacci Sequence"
   ]
  },
  {
   "cell_type": "code",
   "execution_count": null,
   "metadata": {},
   "outputs": [],
   "source": [
    "# maaf kak yang ini saya kurang paham"
   ]
  }
 ],
 "metadata": {
  "kernelspec": {
   "display_name": "base",
   "language": "python",
   "name": "python3"
  },
  "language_info": {
   "codemirror_mode": {
    "name": "ipython",
    "version": 3
   },
   "file_extension": ".py",
   "mimetype": "text/x-python",
   "name": "python",
   "nbconvert_exporter": "python",
   "pygments_lexer": "ipython3",
   "version": "3.11.5"
  }
 },
 "nbformat": 4,
 "nbformat_minor": 2
}
